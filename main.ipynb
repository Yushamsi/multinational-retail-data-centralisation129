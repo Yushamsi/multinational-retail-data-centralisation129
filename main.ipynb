{
 "cells": [
  {
   "cell_type": "code",
   "execution_count": 54,
   "metadata": {},
   "outputs": [],
   "source": [
    "import data_cleaning, data_extraction, database_utils\n",
    "import pandas as pd\n",
    "import re\n",
    "from sqlalchemy import create_engine\n",
    "from sqlalchemy import inspect"
   ]
  },
  {
   "cell_type": "markdown",
   "metadata": {},
   "source": [
    "# Milestone 2"
   ]
  },
  {
   "cell_type": "markdown",
   "metadata": {},
   "source": [
    "## Task 3"
   ]
  },
  {
   "cell_type": "code",
   "execution_count": 55,
   "metadata": {},
   "outputs": [],
   "source": [
    "# rds = database_utils.DatabaseConnector()\n",
    "# rds_credentials = rds.read_db_creds('db_creds.yaml')\n",
    "# print(rds_credentials)\n",
    "# rds_engine = rds.init_db_engine('db_creds.yaml')\n",
    "\n",
    "# list_tables = rds.list_db_tables(rds_engine)\n",
    "# print(list_tables)"
   ]
  },
  {
   "cell_type": "code",
   "execution_count": 56,
   "metadata": {},
   "outputs": [],
   "source": [
    "# table_name = 'legacy_users'\n",
    "# extract = data_extraction.DataExtractor()\n",
    "# user_data = extract.read_rds_table(table_name=table_name, engine=rds_engine)\n",
    "# user_data.to_csv('tables & csv/legacy_users.csv', index=False)\n",
    "# display(user_data.head())"
   ]
  },
  {
   "cell_type": "code",
   "execution_count": 57,
   "metadata": {},
   "outputs": [],
   "source": [
    "# user_data = pd.read_csv('tables & csv/legacy_users.csv')\n",
    "# display(user_data.head())\n"
   ]
  },
  {
   "cell_type": "code",
   "execution_count": 58,
   "metadata": {},
   "outputs": [],
   "source": [
    "# clean = data_cleaning.DataCleaning()\n",
    "# cleaned_user_data = clean.clean_user_data(user_data)\n",
    "# cleaned_user_data.to_csv('tables & csv/legacy_users_cleaned.csv', index=False)"
   ]
  },
  {
   "cell_type": "code",
   "execution_count": 59,
   "metadata": {},
   "outputs": [],
   "source": [
    "# upload = database_utils.DatabaseConnector()\n",
    "# upload_engine = upload.init_db_engine('my_sales_db.yaml')\n",
    "# upload.upload_to_db(pandas_dataframe=cleaned_user_data, upload_table_name='dim_users', engine=upload_engine)"
   ]
  },
  {
   "cell_type": "markdown",
   "metadata": {},
   "source": [
    "## Task 4"
   ]
  },
  {
   "cell_type": "code",
   "execution_count": 60,
   "metadata": {},
   "outputs": [],
   "source": [
    "# upload_table_name='dim_card_details'\n",
    "# link_to_pdf = \"https://data-handling-public.s3.eu-west-1.amazonaws.com/card_details.pdf\"\n",
    "\n",
    "# extract = data_extraction.DataExtractor()\n",
    "# pdf_data_pd = extract.retrieve_pdf_data(link=link_to_pdf, pages='all')\n",
    "# pdf_data_pd.to_csv('tables & csv/pdf_data.csv', index=False)"
   ]
  },
  {
   "cell_type": "code",
   "execution_count": 61,
   "metadata": {},
   "outputs": [],
   "source": [
    "# pdf_data_pd = pd.read_csv('tables & csv/pdf_data.csv')\n",
    "# display(pdf_data_pd.head())"
   ]
  },
  {
   "cell_type": "code",
   "execution_count": 62,
   "metadata": {},
   "outputs": [],
   "source": [
    "# print(pdf_data_pd.card_provider.unique())\n",
    "\n",
    "# values=['Diners Club / Carte Blanche', 'American Express', 'JCB 16 digit',\n",
    "#        'JCB 15 digit', 'Maestro', 'Mastercard', 'Discover',\n",
    "#        'VISA 19 digit', 'VISA 16 digit', 'VISA 13 digit']\n",
    "\n",
    "# pdf_data_pd =  pdf_data_pd[pdf_data_pd[\"card_provider\"].isin(values)]"
   ]
  },
  {
   "cell_type": "code",
   "execution_count": 63,
   "metadata": {},
   "outputs": [],
   "source": [
    "# pdf_data_pd.card_number.unique()"
   ]
  },
  {
   "cell_type": "code",
   "execution_count": 64,
   "metadata": {},
   "outputs": [],
   "source": [
    "# pdf_data_pd['card_number'] = pdf_data_pd['card_number'].astype(str).replace('?', '')"
   ]
  },
  {
   "cell_type": "code",
   "execution_count": 65,
   "metadata": {},
   "outputs": [],
   "source": [
    "# clean = data_cleaning.DataCleaning()\n",
    "# clean_pdf_data_pd = clean.clean_card_data(pdf_data_pd)\n",
    "# clean_pdf_data_pd.to_csv('tables & csv/pdf_data_cleaned.csv', index=False)"
   ]
  },
  {
   "cell_type": "code",
   "execution_count": 66,
   "metadata": {},
   "outputs": [],
   "source": [
    "# display(clean_pdf_data_pd.head())"
   ]
  },
  {
   "cell_type": "code",
   "execution_count": 67,
   "metadata": {},
   "outputs": [],
   "source": [
    "# print(clean_pdf_data_pd.info())\n",
    "# print(clean_pdf_data_pd.card_provider.unique())"
   ]
  },
  {
   "cell_type": "code",
   "execution_count": 68,
   "metadata": {},
   "outputs": [],
   "source": [
    "# upload = database_utils.DatabaseConnector()\n",
    "# upload_engine = upload.init_db_engine('my_sales_db.yaml')\n",
    "# upload.upload_to_db(pandas_dataframe=clean_pdf_data_pd, upload_table_name='dim_card_details', engine=upload_engine)"
   ]
  },
  {
   "cell_type": "markdown",
   "metadata": {},
   "source": [
    "# Task 5\n"
   ]
  },
  {
   "cell_type": "code",
   "execution_count": 69,
   "metadata": {},
   "outputs": [],
   "source": [
    "# extract = data_extraction.DataExtractor()\n",
    "# number_stores = extract.list_number_of_stores()\n",
    "# print(number_stores)"
   ]
  },
  {
   "cell_type": "code",
   "execution_count": 70,
   "metadata": {},
   "outputs": [],
   "source": [
    "# store_df = extract.retrieve_stores_data()\n",
    "# store_df.to_csv('tables & csv/stores_data.csv', index=False)"
   ]
  },
  {
   "cell_type": "code",
   "execution_count": 71,
   "metadata": {},
   "outputs": [],
   "source": [
    "# store_df = pd.read_csv('tables & csv/stores_data.csv')\n",
    "# display(store_df.head())"
   ]
  },
  {
   "cell_type": "code",
   "execution_count": 72,
   "metadata": {},
   "outputs": [],
   "source": [
    "# store_df.continent.unique()"
   ]
  },
  {
   "cell_type": "code",
   "execution_count": 73,
   "metadata": {},
   "outputs": [],
   "source": [
    "# store_df['continent'] = store_df['continent'].astype(str).replace('eeEurope', 'Europe')\n",
    "# store_df['continent'] = store_df['continent'].astype(str).replace('eeAmerica', 'America')\n",
    "# store_df.continent.unique()"
   ]
  },
  {
   "cell_type": "code",
   "execution_count": 74,
   "metadata": {},
   "outputs": [],
   "source": [
    "# values=['Europe', 'America']\n",
    "# store_df = store_df[store_df[\"continent\"].isin(values)]\n",
    "# store_df.continent.unique()"
   ]
  },
  {
   "cell_type": "code",
   "execution_count": 75,
   "metadata": {},
   "outputs": [],
   "source": [
    "# store_df.staff_numbers.unique()"
   ]
  },
  {
   "cell_type": "code",
   "execution_count": 76,
   "metadata": {},
   "outputs": [],
   "source": [
    "# store_df['staff_numbers'] = store_df['staff_numbers'].apply(lambda x: re.sub(r'[a-zA-Z]', '', x))"
   ]
  },
  {
   "cell_type": "code",
   "execution_count": 77,
   "metadata": {},
   "outputs": [],
   "source": [
    "# store_df.staff_numbers.unique()"
   ]
  },
  {
   "cell_type": "code",
   "execution_count": 78,
   "metadata": {},
   "outputs": [],
   "source": [
    "# store_df.info()"
   ]
  },
  {
   "cell_type": "code",
   "execution_count": 79,
   "metadata": {},
   "outputs": [],
   "source": [
    "# clean = data_cleaning.DataCleaning()\n",
    "# store_df_cleaned = clean.clean_store_data(store_df)\n",
    "# store_df_cleaned.to_csv('tables & csv/stores_data_cleaned.csv', index=False)"
   ]
  },
  {
   "cell_type": "code",
   "execution_count": 80,
   "metadata": {},
   "outputs": [],
   "source": [
    "# display(store_df_cleaned.head())"
   ]
  },
  {
   "cell_type": "code",
   "execution_count": 81,
   "metadata": {},
   "outputs": [],
   "source": [
    "# store_df_cleaned.staff_numbers.unique()"
   ]
  },
  {
   "cell_type": "code",
   "execution_count": 82,
   "metadata": {},
   "outputs": [],
   "source": [
    "# upload = database_utils.DatabaseConnector()\n",
    "# upload_engine = upload.init_db_engine('my_sales_db.yaml')\n",
    "# upload.upload_to_db(pandas_dataframe=store_df_cleaned, upload_table_name='dim_store_details', engine=upload_engine)"
   ]
  },
  {
   "cell_type": "markdown",
   "metadata": {},
   "source": [
    "# Task 6\n"
   ]
  },
  {
   "cell_type": "code",
   "execution_count": 83,
   "metadata": {},
   "outputs": [],
   "source": [
    "# extract = data_extraction.DataExtractor()\n",
    "# products_df = extract.extract_from_s3(\"s3://data-handling-public/products.csv\")\n",
    "# display(products_df.head())"
   ]
  },
  {
   "cell_type": "code",
   "execution_count": 84,
   "metadata": {},
   "outputs": [],
   "source": [
    "# products_df = pd.read_csv(\"tables & csv/products.csv\")\n",
    "# display(products_df.head())"
   ]
  },
  {
   "cell_type": "code",
   "execution_count": 85,
   "metadata": {},
   "outputs": [],
   "source": [
    "# products_df.removed.unique()"
   ]
  },
  {
   "cell_type": "code",
   "execution_count": 86,
   "metadata": {},
   "outputs": [],
   "source": [
    "# values=['Still_avaliable', 'Removed']\n",
    "# products_df = products_df[products_df[\"removed\"].isin(values)]\n",
    "# products_df.removed.unique()"
   ]
  },
  {
   "cell_type": "code",
   "execution_count": 87,
   "metadata": {},
   "outputs": [],
   "source": [
    "# clean = data_cleaning.DataCleaning()\n",
    "# kg_products_df = clean.convert_product_weights(products=products_df)\n",
    "# kg_products_df.to_csv('tables & csv/products_w_kg.csv', index=False)"
   ]
  },
  {
   "cell_type": "code",
   "execution_count": 88,
   "metadata": {},
   "outputs": [],
   "source": [
    "# kg_products_df.head()"
   ]
  },
  {
   "cell_type": "code",
   "execution_count": 89,
   "metadata": {},
   "outputs": [],
   "source": [
    "# kg_products_df = pd.read_csv('tables & csv/products_w_kg.csv')"
   ]
  },
  {
   "cell_type": "code",
   "execution_count": 90,
   "metadata": {},
   "outputs": [],
   "source": [
    "# kg_products_df.head()"
   ]
  },
  {
   "cell_type": "code",
   "execution_count": 91,
   "metadata": {},
   "outputs": [],
   "source": [
    "# clean_products = clean.clean_products_data(kg_products_df)\n",
    "# clean_products.to_csv('tables & csv/products_cleaned.csv', index=False)"
   ]
  },
  {
   "cell_type": "code",
   "execution_count": 92,
   "metadata": {},
   "outputs": [],
   "source": [
    "# upload = database_utils.DatabaseConnector()\n",
    "# upload_engine = upload.init_db_engine('my_sales_db.yaml')\n",
    "# upload.upload_to_db(pandas_dataframe=clean_products, upload_table_name='dim_products', engine=upload_engine)"
   ]
  },
  {
   "cell_type": "markdown",
   "metadata": {},
   "source": [
    "# Task 7\n"
   ]
  },
  {
   "cell_type": "code",
   "execution_count": 93,
   "metadata": {},
   "outputs": [],
   "source": [
    "# utils = database_utils.DatabaseConnector()\n",
    "# rds_engine = utils.init_db_engine('db_creds.yaml')\n",
    "# table_list = utils.list_db_tables(rds_engine)\n",
    "# print(table_list)"
   ]
  },
  {
   "cell_type": "code",
   "execution_count": 94,
   "metadata": {},
   "outputs": [],
   "source": [
    "# table_name = 'orders_table'\n",
    "# extract = data_extraction.DataExtractor()\n",
    "# orders_df = extract.read_rds_table(table_name=table_name, engine=rds_engine)"
   ]
  },
  {
   "cell_type": "code",
   "execution_count": 95,
   "metadata": {},
   "outputs": [],
   "source": [
    "# display(orders_df)"
   ]
  },
  {
   "cell_type": "code",
   "execution_count": 96,
   "metadata": {},
   "outputs": [],
   "source": [
    "# orders_df.to_csv('tables & csv/orders_table', index=False)\n",
    "# orders_df = pd.read_csv('tables & csv/orders_table', index_col='index')\n",
    "# display(orders_df)"
   ]
  },
  {
   "cell_type": "code",
   "execution_count": 97,
   "metadata": {},
   "outputs": [],
   "source": [
    "# clean = data_cleaning.DataCleaning()\n",
    "# orders_df_cleaned = clean.clean_orders_data(order_df=orders_df)\n",
    "# display(orders_df_cleaned)"
   ]
  },
  {
   "cell_type": "code",
   "execution_count": 98,
   "metadata": {},
   "outputs": [],
   "source": [
    "# orders_df_cleaned.to_csv('tables & csv/orders_table_cleaned', index=False)"
   ]
  },
  {
   "cell_type": "code",
   "execution_count": 99,
   "metadata": {},
   "outputs": [],
   "source": [
    "# sales_engine = utils.init_db_engine('my_sales_db.yaml')\n",
    "# utils.upload_to_db(pandas_dataframe=orders_df_cleaned, upload_table_name='orders_table', engine=sales_engine)"
   ]
  },
  {
   "cell_type": "markdown",
   "metadata": {},
   "source": [
    "# Task 8"
   ]
  },
  {
   "cell_type": "code",
   "execution_count": 100,
   "metadata": {},
   "outputs": [],
   "source": [
    "# s3_address = 'https://data-handling-public.s3.eu-west-1.amazonaws.com/date_details.json'\n",
    "# extract = data_extraction.DataExtractor()\n",
    "# date_details_df = extract.extract_from_s3(s3_address)\n",
    "# display(date_details_df)\n"
   ]
  },
  {
   "cell_type": "code",
   "execution_count": 101,
   "metadata": {},
   "outputs": [],
   "source": [
    "# date_details_df.to_csv('tables & csv/date_details.csv', index=False)"
   ]
  },
  {
   "cell_type": "code",
   "execution_count": 102,
   "metadata": {},
   "outputs": [],
   "source": [
    "# date_details_df['time_period'].unique()"
   ]
  },
  {
   "cell_type": "code",
   "execution_count": 103,
   "metadata": {},
   "outputs": [],
   "source": [
    "# values=['Evening', 'Morning', 'Midday', 'Late_Hours']\n",
    "# date_details_df = date_details_df[date_details_df['time_period'].isin(values)]\n",
    "# date_details_df.time_period.unique()"
   ]
  },
  {
   "cell_type": "code",
   "execution_count": 104,
   "metadata": {},
   "outputs": [],
   "source": [
    "# clean = data_cleaning.DataCleaning()\n",
    "# date_details_cleaned = clean.clean_date_data(date_details_df)\n",
    "# date_details_cleaned.time_period.unique()"
   ]
  },
  {
   "cell_type": "code",
   "execution_count": 105,
   "metadata": {},
   "outputs": [],
   "source": [
    "# date_details_cleaned.to_csv('tables & csv/date_details_cleaned.csv', index=False)"
   ]
  },
  {
   "cell_type": "code",
   "execution_count": 106,
   "metadata": {},
   "outputs": [],
   "source": [
    "# utils = database_utils.DatabaseConnector()\n",
    "# sales_engine = utils.init_db_engine('my_sales_db.yaml')\n",
    "# utils.upload_to_db(pandas_dataframe=date_details_cleaned, upload_table_name='dim_date_times', engine=sales_engine)"
   ]
  },
  {
   "cell_type": "code",
   "execution_count": null,
   "metadata": {},
   "outputs": [],
   "source": []
  }
 ],
 "metadata": {
  "kernelspec": {
   "display_name": "Python 3",
   "language": "python",
   "name": "python3"
  },
  "language_info": {
   "codemirror_mode": {
    "name": "ipython",
    "version": 3
   },
   "file_extension": ".py",
   "mimetype": "text/x-python",
   "name": "python",
   "nbconvert_exporter": "python",
   "pygments_lexer": "ipython3",
   "version": "3.11.8"
  }
 },
 "nbformat": 4,
 "nbformat_minor": 2
}
