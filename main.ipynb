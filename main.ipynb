{
 "cells": [
  {
   "cell_type": "code",
   "execution_count": 1,
   "metadata": {},
   "outputs": [],
   "source": [
    "import data_cleaning, data_extraction, database_utils\n",
    "import pandas as pd\n",
    "import re\n",
    "from sqlalchemy import create_engine\n",
    "from sqlalchemy import inspect"
   ]
  },
  {
   "cell_type": "markdown",
   "metadata": {},
   "source": [
    "# Milestone 2"
   ]
  },
  {
   "cell_type": "markdown",
   "metadata": {},
   "source": [
    "## Task 3"
   ]
  },
  {
   "cell_type": "code",
   "execution_count": 2,
   "metadata": {},
   "outputs": [],
   "source": [
    "# rds = database_utils.DatabaseConnector()\n",
    "# rds_credentials = rds.read_db_creds('db_creds.yaml')\n",
    "# print(rds_credentials)\n",
    "# rds_engine = rds.init_db_engine('db_creds.yaml')\n",
    "\n",
    "# list_tables = rds.list_db_tables(rds_engine)\n",
    "# print(list_tables)"
   ]
  },
  {
   "cell_type": "code",
   "execution_count": 3,
   "metadata": {},
   "outputs": [],
   "source": [
    "# table_name = 'legacy_users'\n",
    "# extract = data_extraction.DataExtractor()\n",
    "# user_data = extract.read_rds_table(table_name=table_name, engine=rds_engine)\n",
    "# user_data.to_csv('tables & csv/legacy_users.csv', index=False)\n",
    "# display(user_data.head())"
   ]
  },
  {
   "cell_type": "code",
   "execution_count": 4,
   "metadata": {},
   "outputs": [],
   "source": [
    "# user_data = pd.read_csv('tables & csv/legacy_users.csv')\n",
    "# display(user_data.head())\n"
   ]
  },
  {
   "cell_type": "code",
   "execution_count": 5,
   "metadata": {},
   "outputs": [],
   "source": [
    "# clean = data_cleaning.DataCleaning()\n",
    "# cleaned_user_data = clean.clean_user_data(user_data)\n",
    "# cleaned_user_data.to_csv('tables & csv/legacy_users_cleaned.csv', index=False)"
   ]
  },
  {
   "cell_type": "code",
   "execution_count": 6,
   "metadata": {},
   "outputs": [],
   "source": [
    "# upload = database_utils.DatabaseConnector()\n",
    "# upload_engine = upload.init_db_engine('my_sales_db.yaml')\n",
    "# upload.upload_to_db(pandas_dataframe=cleaned_user_data, upload_table_name='dim_users', engine=upload_engine)"
   ]
  },
  {
   "cell_type": "markdown",
   "metadata": {},
   "source": [
    "## Task 4"
   ]
  },
  {
   "cell_type": "code",
   "execution_count": 7,
   "metadata": {},
   "outputs": [],
   "source": [
    "# upload_table_name='dim_card_details'\n",
    "# link_to_pdf = \"https://data-handling-public.s3.eu-west-1.amazonaws.com/card_details.pdf\"\n",
    "\n",
    "# extract = data_extraction.DataExtractor()\n",
    "# pdf_data_pd = extract.retrieve_pdf_data(link=link_to_pdf, pages='all')\n",
    "# pdf_data_pd.to_csv('tables & csv/pdf_data.csv', index=False)"
   ]
  },
  {
   "cell_type": "code",
   "execution_count": 8,
   "metadata": {},
   "outputs": [
    {
     "data": {
      "text/html": [
       "<div>\n",
       "<style scoped>\n",
       "    .dataframe tbody tr th:only-of-type {\n",
       "        vertical-align: middle;\n",
       "    }\n",
       "\n",
       "    .dataframe tbody tr th {\n",
       "        vertical-align: top;\n",
       "    }\n",
       "\n",
       "    .dataframe thead th {\n",
       "        text-align: right;\n",
       "    }\n",
       "</style>\n",
       "<table border=\"1\" class=\"dataframe\">\n",
       "  <thead>\n",
       "    <tr style=\"text-align: right;\">\n",
       "      <th></th>\n",
       "      <th>card_number</th>\n",
       "      <th>expiry_date</th>\n",
       "      <th>card_provider</th>\n",
       "      <th>date_payment_confirmed</th>\n",
       "    </tr>\n",
       "  </thead>\n",
       "  <tbody>\n",
       "    <tr>\n",
       "      <th>0</th>\n",
       "      <td>30060773296197</td>\n",
       "      <td>09/26</td>\n",
       "      <td>Diners Club / Carte Blanche</td>\n",
       "      <td>2015-11-25</td>\n",
       "    </tr>\n",
       "    <tr>\n",
       "      <th>1</th>\n",
       "      <td>349624180933183</td>\n",
       "      <td>10/23</td>\n",
       "      <td>American Express</td>\n",
       "      <td>2001-06-18</td>\n",
       "    </tr>\n",
       "    <tr>\n",
       "      <th>2</th>\n",
       "      <td>3529023891650490</td>\n",
       "      <td>06/23</td>\n",
       "      <td>JCB 16 digit</td>\n",
       "      <td>2000-12-26</td>\n",
       "    </tr>\n",
       "    <tr>\n",
       "      <th>3</th>\n",
       "      <td>213142929492281</td>\n",
       "      <td>09/27</td>\n",
       "      <td>JCB 15 digit</td>\n",
       "      <td>2011-02-12</td>\n",
       "    </tr>\n",
       "    <tr>\n",
       "      <th>4</th>\n",
       "      <td>502067329974</td>\n",
       "      <td>10/25</td>\n",
       "      <td>Maestro</td>\n",
       "      <td>1997-03-13</td>\n",
       "    </tr>\n",
       "  </tbody>\n",
       "</table>\n",
       "</div>"
      ],
      "text/plain": [
       "        card_number expiry_date                card_provider  \\\n",
       "0    30060773296197       09/26  Diners Club / Carte Blanche   \n",
       "1   349624180933183       10/23             American Express   \n",
       "2  3529023891650490       06/23                 JCB 16 digit   \n",
       "3   213142929492281       09/27                 JCB 15 digit   \n",
       "4      502067329974       10/25                      Maestro   \n",
       "\n",
       "  date_payment_confirmed  \n",
       "0             2015-11-25  \n",
       "1             2001-06-18  \n",
       "2             2000-12-26  \n",
       "3             2011-02-12  \n",
       "4             1997-03-13  "
      ]
     },
     "metadata": {},
     "output_type": "display_data"
    }
   ],
   "source": [
    "pdf_data_pd = pd.read_csv('tables & csv/pdf_data.csv')\n",
    "display(pdf_data_pd.head())"
   ]
  },
  {
   "cell_type": "code",
   "execution_count": 9,
   "metadata": {},
   "outputs": [],
   "source": [
    "# print(pdf_data_pd.card_provider.unique())\n",
    "\n",
    "# values=['Diners Club / Carte Blanche', 'American Express', 'JCB 16 digit',\n",
    "#        'JCB 15 digit', 'Maestro', 'Mastercard', 'Discover',\n",
    "#        'VISA 19 digit', 'VISA 16 digit', 'VISA 13 digit']\n",
    "\n",
    "# pdf_data_pd =  pdf_data_pd[pdf_data_pd[\"card_provider\"].isin(values)]"
   ]
  },
  {
   "cell_type": "code",
   "execution_count": 10,
   "metadata": {},
   "outputs": [
    {
     "data": {
      "text/plain": [
       "array(['30060773296197', '349624180933183', '3529023891650490', ...,\n",
       "       '3569953313547220', '4444521712606810', '372031786522735'],\n",
       "      dtype=object)"
      ]
     },
     "execution_count": 10,
     "metadata": {},
     "output_type": "execute_result"
    }
   ],
   "source": [
    "pdf_data_pd.card_number.unique()"
   ]
  },
  {
   "cell_type": "code",
   "execution_count": 11,
   "metadata": {},
   "outputs": [],
   "source": [
    "# pdf_data_pd['card_number'] = pdf_data_pd['card_number'].astype(str).replace('?', '')"
   ]
  },
  {
   "cell_type": "code",
   "execution_count": 12,
   "metadata": {},
   "outputs": [
    {
     "name": "stdout",
     "output_type": "stream",
     "text": [
      "Info: \n",
      "\n",
      "<class 'pandas.core.frame.DataFrame'>\n",
      "RangeIndex: 15309 entries, 0 to 15308\n",
      "Data columns (total 4 columns):\n",
      " #   Column                  Non-Null Count  Dtype \n",
      "---  ------                  --------------  ----- \n",
      " 0   card_number             15298 non-null  object\n",
      " 1   expiry_date             15298 non-null  object\n",
      " 2   card_provider           15298 non-null  object\n",
      " 3   date_payment_confirmed  15298 non-null  object\n",
      "dtypes: object(4)\n",
      "memory usage: 478.5+ KB\n",
      "\n",
      "Missing values in each column:\n",
      " card_number               11\n",
      "expiry_date               11\n",
      "card_provider             11\n",
      "date_payment_confirmed    11\n",
      "dtype: int64\n",
      "\n",
      "Null values in each column:\n",
      " card_number               11\n",
      "expiry_date               11\n",
      "card_provider             11\n",
      "date_payment_confirmed    11\n",
      "dtype: int64\n",
      "\n",
      "Data types of each column:\n",
      " card_number               object\n",
      "expiry_date               object\n",
      "card_provider             object\n",
      "date_payment_confirmed    object\n",
      "dtype: object\n",
      "\n",
      "Description of the DataFrame:\n",
      "            card_number expiry_date  card_provider date_payment_confirmed\n",
      "count            15298       15298          15298                  15298\n",
      "unique           15298         135             24                   8269\n",
      "top     30060773296197       12/29  VISA 16 digit             1998-02-25\n",
      "freq                 1         163           2426                      8\n",
      "\n",
      "Missing values in each column after cleaning:\n",
      " card_number               0\n",
      "expiry_date               0\n",
      "card_provider             0\n",
      "date_payment_confirmed    0\n",
      "dtype: int64\n",
      "\n",
      "Data types of each column after cleaning:\n",
      " card_number               object\n",
      "expiry_date               object\n",
      "card_provider             object\n",
      "date_payment_confirmed    object\n",
      "dtype: object\n"
     ]
    },
    {
     "name": "stderr",
     "output_type": "stream",
     "text": [
      "/Users/yusufshamsi/Documents/GitHub/multinational-retail-data-centralisation129/data_cleaning.py:96: SettingWithCopyWarning: \n",
      "A value is trying to be set on a copy of a slice from a DataFrame\n",
      "\n",
      "See the caveats in the documentation: https://pandas.pydata.org/pandas-docs/stable/user_guide/indexing.html#returning-a-view-versus-a-copy\n",
      "  card.dropna(how='all', inplace=True)\n"
     ]
    }
   ],
   "source": [
    "clean = data_cleaning.DataCleaning()\n",
    "clean_pdf_data_pd = clean.clean_card_data(pdf_data_pd)\n",
    "clean_pdf_data_pd.to_csv('tables & csv/pdf_data_cleaned.csv', index=False)"
   ]
  },
  {
   "cell_type": "code",
   "execution_count": 13,
   "metadata": {},
   "outputs": [
    {
     "data": {
      "text/html": [
       "<div>\n",
       "<style scoped>\n",
       "    .dataframe tbody tr th:only-of-type {\n",
       "        vertical-align: middle;\n",
       "    }\n",
       "\n",
       "    .dataframe tbody tr th {\n",
       "        vertical-align: top;\n",
       "    }\n",
       "\n",
       "    .dataframe thead th {\n",
       "        text-align: right;\n",
       "    }\n",
       "</style>\n",
       "<table border=\"1\" class=\"dataframe\">\n",
       "  <thead>\n",
       "    <tr style=\"text-align: right;\">\n",
       "      <th></th>\n",
       "      <th>card_number</th>\n",
       "      <th>expiry_date</th>\n",
       "      <th>card_provider</th>\n",
       "      <th>date_payment_confirmed</th>\n",
       "    </tr>\n",
       "  </thead>\n",
       "  <tbody>\n",
       "    <tr>\n",
       "      <th>0</th>\n",
       "      <td>30060773296197</td>\n",
       "      <td>09/26</td>\n",
       "      <td>Diners Club / Carte Blanche</td>\n",
       "      <td>2015-11-25</td>\n",
       "    </tr>\n",
       "    <tr>\n",
       "      <th>1</th>\n",
       "      <td>349624180933183</td>\n",
       "      <td>10/23</td>\n",
       "      <td>American Express</td>\n",
       "      <td>2001-06-18</td>\n",
       "    </tr>\n",
       "    <tr>\n",
       "      <th>2</th>\n",
       "      <td>3529023891650490</td>\n",
       "      <td>06/23</td>\n",
       "      <td>JCB 16 digit</td>\n",
       "      <td>2000-12-26</td>\n",
       "    </tr>\n",
       "    <tr>\n",
       "      <th>3</th>\n",
       "      <td>213142929492281</td>\n",
       "      <td>09/27</td>\n",
       "      <td>JCB 15 digit</td>\n",
       "      <td>2011-02-12</td>\n",
       "    </tr>\n",
       "    <tr>\n",
       "      <th>4</th>\n",
       "      <td>502067329974</td>\n",
       "      <td>10/25</td>\n",
       "      <td>Maestro</td>\n",
       "      <td>1997-03-13</td>\n",
       "    </tr>\n",
       "  </tbody>\n",
       "</table>\n",
       "</div>"
      ],
      "text/plain": [
       "        card_number expiry_date                card_provider  \\\n",
       "0    30060773296197       09/26  Diners Club / Carte Blanche   \n",
       "1   349624180933183       10/23             American Express   \n",
       "2  3529023891650490       06/23                 JCB 16 digit   \n",
       "3   213142929492281       09/27                 JCB 15 digit   \n",
       "4      502067329974       10/25                      Maestro   \n",
       "\n",
       "  date_payment_confirmed  \n",
       "0             2015-11-25  \n",
       "1             2001-06-18  \n",
       "2             2000-12-26  \n",
       "3             2011-02-12  \n",
       "4             1997-03-13  "
      ]
     },
     "metadata": {},
     "output_type": "display_data"
    }
   ],
   "source": [
    "display(clean_pdf_data_pd.head())"
   ]
  },
  {
   "cell_type": "code",
   "execution_count": 14,
   "metadata": {},
   "outputs": [
    {
     "name": "stdout",
     "output_type": "stream",
     "text": [
      "<class 'pandas.core.frame.DataFrame'>\n",
      "Index: 15284 entries, 0 to 15308\n",
      "Data columns (total 4 columns):\n",
      " #   Column                  Non-Null Count  Dtype \n",
      "---  ------                  --------------  ----- \n",
      " 0   card_number             15284 non-null  object\n",
      " 1   expiry_date             15284 non-null  object\n",
      " 2   card_provider           15284 non-null  object\n",
      " 3   date_payment_confirmed  15284 non-null  object\n",
      "dtypes: object(4)\n",
      "memory usage: 597.0+ KB\n",
      "None\n",
      "['Diners Club / Carte Blanche' 'American Express' 'JCB 16 digit'\n",
      " 'JCB 15 digit' 'Maestro' 'Mastercard' 'Discover' 'VISA 19 digit'\n",
      " 'VISA 16 digit' 'VISA 13 digit']\n"
     ]
    }
   ],
   "source": [
    "print(clean_pdf_data_pd.info())\n",
    "print(clean_pdf_data_pd.card_provider.unique())"
   ]
  },
  {
   "cell_type": "code",
   "execution_count": 15,
   "metadata": {},
   "outputs": [
    {
     "name": "stdout",
     "output_type": "stream",
     "text": [
      "{'DATABASE_TYPE': 'postgresql', 'DBAPI': 'psycopg2', 'HOST': 'localhost', 'USER': 'postgres', 'PASSWORD': 'postgres', 'DATABASE': 'sales_data', 'PORT': 5432}\n",
      "Uploaded dataframe as dim_card_details\n"
     ]
    }
   ],
   "source": [
    "upload = database_utils.DatabaseConnector()\n",
    "upload_engine = upload.init_db_engine('my_sales_db.yaml')\n",
    "upload.upload_to_db(pandas_dataframe=clean_pdf_data_pd, upload_table_name='dim_card_details', engine=upload_engine)"
   ]
  },
  {
   "cell_type": "markdown",
   "metadata": {},
   "source": [
    "# Task 5\n"
   ]
  },
  {
   "cell_type": "code",
   "execution_count": 16,
   "metadata": {},
   "outputs": [],
   "source": [
    "# extract = data_extraction.DataExtractor()\n",
    "# number_stores = extract.list_number_of_stores()\n",
    "# print(number_stores)"
   ]
  },
  {
   "cell_type": "code",
   "execution_count": 17,
   "metadata": {},
   "outputs": [],
   "source": [
    "# store_df = extract.retrieve_stores_data()\n",
    "# store_df.to_csv('tables & csv/stores_data.csv', index=False)"
   ]
  },
  {
   "cell_type": "code",
   "execution_count": 18,
   "metadata": {},
   "outputs": [],
   "source": [
    "# store_df = pd.read_csv('tables & csv/stores_data.csv')\n",
    "# display(store_df.head())"
   ]
  },
  {
   "cell_type": "code",
   "execution_count": 19,
   "metadata": {},
   "outputs": [],
   "source": [
    "# store_df.continent.unique()"
   ]
  },
  {
   "cell_type": "code",
   "execution_count": 20,
   "metadata": {},
   "outputs": [],
   "source": [
    "# store_df['continent'] = store_df['continent'].astype(str).replace('eeEurope', 'Europe')\n",
    "# store_df['continent'] = store_df['continent'].astype(str).replace('eeAmerica', 'America')\n",
    "# store_df.continent.unique()"
   ]
  },
  {
   "cell_type": "code",
   "execution_count": 21,
   "metadata": {},
   "outputs": [],
   "source": [
    "# values=['Europe', 'America']\n",
    "# store_df = store_df[store_df[\"continent\"].isin(values)]\n",
    "# store_df.continent.unique()"
   ]
  },
  {
   "cell_type": "code",
   "execution_count": 22,
   "metadata": {},
   "outputs": [],
   "source": [
    "# store_df.staff_numbers.unique()"
   ]
  },
  {
   "cell_type": "code",
   "execution_count": 23,
   "metadata": {},
   "outputs": [],
   "source": [
    "# store_df['staff_numbers'] = store_df['staff_numbers'].apply(lambda x: re.sub(r'[a-zA-Z]', '', x))"
   ]
  },
  {
   "cell_type": "code",
   "execution_count": 24,
   "metadata": {},
   "outputs": [],
   "source": [
    "# store_df.staff_numbers.unique()"
   ]
  },
  {
   "cell_type": "code",
   "execution_count": 25,
   "metadata": {},
   "outputs": [],
   "source": [
    "# store_df.info()"
   ]
  },
  {
   "cell_type": "code",
   "execution_count": 26,
   "metadata": {},
   "outputs": [],
   "source": [
    "# clean = data_cleaning.DataCleaning()\n",
    "# store_df_cleaned = clean.clean_store_data(store_df)\n",
    "# store_df_cleaned.to_csv('tables & csv/stores_data_cleaned.csv', index=False)"
   ]
  },
  {
   "cell_type": "code",
   "execution_count": 27,
   "metadata": {},
   "outputs": [],
   "source": [
    "# display(store_df_cleaned.head())"
   ]
  },
  {
   "cell_type": "code",
   "execution_count": 28,
   "metadata": {},
   "outputs": [],
   "source": [
    "# store_df_cleaned.staff_numbers.unique()"
   ]
  },
  {
   "cell_type": "code",
   "execution_count": 29,
   "metadata": {},
   "outputs": [],
   "source": [
    "# upload = database_utils.DatabaseConnector()\n",
    "# upload_engine = upload.init_db_engine('my_sales_db.yaml')\n",
    "# upload.upload_to_db(pandas_dataframe=store_df_cleaned, upload_table_name='dim_store_details', engine=upload_engine)"
   ]
  },
  {
   "cell_type": "markdown",
   "metadata": {},
   "source": [
    "# Task 6\n"
   ]
  },
  {
   "cell_type": "code",
   "execution_count": 30,
   "metadata": {},
   "outputs": [],
   "source": [
    "# extract = data_extraction.DataExtractor()\n",
    "# products_df = extract.extract_from_s3(\"s3://data-handling-public/products.csv\")\n",
    "# display(products_df.head())"
   ]
  },
  {
   "cell_type": "code",
   "execution_count": 31,
   "metadata": {},
   "outputs": [],
   "source": [
    "# products_df = pd.read_csv(\"tables & csv/products.csv\")\n",
    "# display(products_df.head())"
   ]
  },
  {
   "cell_type": "code",
   "execution_count": 32,
   "metadata": {},
   "outputs": [],
   "source": [
    "# products_df.removed.unique()"
   ]
  },
  {
   "cell_type": "code",
   "execution_count": 33,
   "metadata": {},
   "outputs": [],
   "source": [
    "# values=['Still_avaliable', 'Removed']\n",
    "# products_df = products_df[products_df[\"removed\"].isin(values)]\n",
    "# products_df.removed.unique()"
   ]
  },
  {
   "cell_type": "code",
   "execution_count": 34,
   "metadata": {},
   "outputs": [],
   "source": [
    "# clean = data_cleaning.DataCleaning()\n",
    "# kg_products_df = clean.convert_product_weights(products=products_df)\n",
    "# kg_products_df.to_csv('tables & csv/products_w_kg.csv', index=False)"
   ]
  },
  {
   "cell_type": "code",
   "execution_count": 35,
   "metadata": {},
   "outputs": [],
   "source": [
    "# kg_products_df.head()"
   ]
  },
  {
   "cell_type": "code",
   "execution_count": 36,
   "metadata": {},
   "outputs": [],
   "source": [
    "# kg_products_df = pd.read_csv('tables & csv/products_w_kg.csv')"
   ]
  },
  {
   "cell_type": "code",
   "execution_count": 37,
   "metadata": {},
   "outputs": [],
   "source": [
    "# kg_products_df.head()"
   ]
  },
  {
   "cell_type": "code",
   "execution_count": 38,
   "metadata": {},
   "outputs": [],
   "source": [
    "# clean_products = clean.clean_products_data(kg_products_df)\n",
    "# clean_products.to_csv('tables & csv/products_cleaned.csv', index=False)"
   ]
  },
  {
   "cell_type": "code",
   "execution_count": 39,
   "metadata": {},
   "outputs": [],
   "source": [
    "# upload = database_utils.DatabaseConnector()\n",
    "# upload_engine = upload.init_db_engine('my_sales_db.yaml')\n",
    "# upload.upload_to_db(pandas_dataframe=clean_products, upload_table_name='dim_products', engine=upload_engine)"
   ]
  },
  {
   "cell_type": "markdown",
   "metadata": {},
   "source": [
    "# Task 7\n"
   ]
  },
  {
   "cell_type": "code",
   "execution_count": 40,
   "metadata": {},
   "outputs": [],
   "source": [
    "# utils = database_utils.DatabaseConnector()\n",
    "# rds_engine = utils.init_db_engine('db_creds.yaml')\n",
    "# table_list = utils.list_db_tables(rds_engine)\n",
    "# print(table_list)"
   ]
  },
  {
   "cell_type": "code",
   "execution_count": 41,
   "metadata": {},
   "outputs": [],
   "source": [
    "# table_name = 'orders_table'\n",
    "# extract = data_extraction.DataExtractor()\n",
    "# orders_df = extract.read_rds_table(table_name=table_name, engine=rds_engine)"
   ]
  },
  {
   "cell_type": "code",
   "execution_count": 42,
   "metadata": {},
   "outputs": [],
   "source": [
    "# display(orders_df)"
   ]
  },
  {
   "cell_type": "code",
   "execution_count": 43,
   "metadata": {},
   "outputs": [],
   "source": [
    "# orders_df.to_csv('tables & csv/orders_table', index=False)\n",
    "# orders_df = pd.read_csv('tables & csv/orders_table', index_col='index')\n",
    "# display(orders_df)"
   ]
  },
  {
   "cell_type": "code",
   "execution_count": 44,
   "metadata": {},
   "outputs": [],
   "source": [
    "# clean = data_cleaning.DataCleaning()\n",
    "# orders_df_cleaned = clean.clean_orders_data(order_df=orders_df)\n",
    "# display(orders_df_cleaned)"
   ]
  },
  {
   "cell_type": "code",
   "execution_count": 45,
   "metadata": {},
   "outputs": [],
   "source": [
    "# orders_df_cleaned.to_csv('tables & csv/orders_table_cleaned', index=False)"
   ]
  },
  {
   "cell_type": "code",
   "execution_count": 46,
   "metadata": {},
   "outputs": [],
   "source": [
    "# sales_engine = utils.init_db_engine('my_sales_db.yaml')\n",
    "# utils.upload_to_db(pandas_dataframe=orders_df_cleaned, upload_table_name='orders_table', engine=sales_engine)"
   ]
  },
  {
   "cell_type": "markdown",
   "metadata": {},
   "source": [
    "# Task 8"
   ]
  },
  {
   "cell_type": "code",
   "execution_count": 47,
   "metadata": {},
   "outputs": [],
   "source": [
    "# s3_address = 'https://data-handling-public.s3.eu-west-1.amazonaws.com/date_details.json'\n",
    "# extract = data_extraction.DataExtractor()\n",
    "# date_details_df = extract.extract_from_s3(s3_address)\n",
    "# display(date_details_df)\n"
   ]
  },
  {
   "cell_type": "code",
   "execution_count": 48,
   "metadata": {},
   "outputs": [],
   "source": [
    "# date_details_df.to_csv('tables & csv/date_details.csv', index=False)"
   ]
  },
  {
   "cell_type": "code",
   "execution_count": 49,
   "metadata": {},
   "outputs": [],
   "source": [
    "# date_details_df['time_period'].unique()"
   ]
  },
  {
   "cell_type": "code",
   "execution_count": 50,
   "metadata": {},
   "outputs": [],
   "source": [
    "# values=['Evening', 'Morning', 'Midday', 'Late_Hours']\n",
    "# date_details_df = date_details_df[date_details_df['time_period'].isin(values)]\n",
    "# date_details_df.time_period.unique()"
   ]
  },
  {
   "cell_type": "code",
   "execution_count": 51,
   "metadata": {},
   "outputs": [],
   "source": [
    "# clean = data_cleaning.DataCleaning()\n",
    "# date_details_cleaned = clean.clean_date_data(date_details_df)\n",
    "# date_details_cleaned.time_period.unique()"
   ]
  },
  {
   "cell_type": "code",
   "execution_count": 52,
   "metadata": {},
   "outputs": [],
   "source": [
    "# date_details_cleaned.to_csv('tables & csv/date_details_cleaned.csv', index=False)"
   ]
  },
  {
   "cell_type": "code",
   "execution_count": 53,
   "metadata": {},
   "outputs": [],
   "source": [
    "# utils = database_utils.DatabaseConnector()\n",
    "# sales_engine = utils.init_db_engine('my_sales_db.yaml')\n",
    "# utils.upload_to_db(pandas_dataframe=date_details_cleaned, upload_table_name='dim_date_times', engine=sales_engine)"
   ]
  },
  {
   "cell_type": "code",
   "execution_count": null,
   "metadata": {},
   "outputs": [],
   "source": []
  }
 ],
 "metadata": {
  "kernelspec": {
   "display_name": "Python 3",
   "language": "python",
   "name": "python3"
  },
  "language_info": {
   "codemirror_mode": {
    "name": "ipython",
    "version": 3
   },
   "file_extension": ".py",
   "mimetype": "text/x-python",
   "name": "python",
   "nbconvert_exporter": "python",
   "pygments_lexer": "ipython3",
   "version": "3.11.8"
  }
 },
 "nbformat": 4,
 "nbformat_minor": 2
}
